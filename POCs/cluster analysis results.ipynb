{
 "cells": [
  {
   "cell_type": "code",
   "execution_count": 1,
   "metadata": {},
   "outputs": [],
   "source": [
    "from IPython.display import Image\n",
    "from IPython.display import HTML\n",
    "html_content=\"\""
   ]
  },
  {
   "cell_type": "code",
   "execution_count": 2,
   "metadata": {},
   "outputs": [],
   "source": [
    "col_names = ['min_walk_score',\n",
    " 'max_walk_score',\n",
    " 'mean_walk_score',\n",
    " 'med_sale_pbo_n',\n",
    " 'log_sum_cost_pedestrian_events',\n",
    " 'log_num_near_misses',\n",
    " 'log_n_rqst',\n",
    " 'log_access',\n",
    " 'log_dblprk',\n",
    " 'log_dnotyld',\n",
    " 'log_jywalk',\n",
    " 'log_lvisib',\n",
    " 'log_lwfws',\n",
    " 'log_nobikef',\n",
    " 'log_noswlk',\n",
    " 'log_other',\n",
    " 'log_prkint',\n",
    " 'log_prkswlk',\n",
    " 'log_speed',\n",
    " 'log_vrrlss',\n",
    " 'log_wlksig',\n",
    " 'log_xwalk',\n",
    " 'log_assist',\n",
    " 'log_bikes',\n",
    " 'log_drives',\n",
    " 'log_other.1',\n",
    " 'log_walks',\n",
    " 'log_num_walk_scores',\n",
    " 'log_sum_lane_cnt',\n",
    " 'log_sum_width',\n",
    " 'log_sum_area',\n",
    " 'log_num_streets',\n",
    " 'log_num_fire_incd',\n",
    " 'log_med_sale_res_y',\n",
    " 'log_med_sale_res_n',\n",
    " 'log_med_sale_com_y',\n",
    " 'log_med_sale_com_n',\n",
    " 'log_med_sale_ind_y',\n",
    " 'log_med_sale_ind_n',\n",
    " 'log_med_sale_pbo_y',\n",
    " 'log_sum_cost.y',\n",
    " 'log_num_events.y',\n",
    " 'log_dist',\n",
    " 'log_n_object',\n",
    " 'log_animals_insects',\n",
    " 'log_building.related',\n",
    " 'log_construction',\n",
    " 'log_food',\n",
    " 'log_others',\n",
    " 'log_police.property',\n",
    " 'log_service.complaint',\n",
    " 'log_street_sidewalk',\n",
    " 'log_traffic_sig0l',\n",
    " 'log_trash',\n",
    " 'log_trees_plants',\n",
    " 'log_water.leak',\n",
    " 'log_zoning_parking',\n",
    " 'log_n_request']"
   ]
  },
  {
   "cell_type": "code",
   "execution_count": 3,
   "metadata": {
    "scrolled": false
   },
   "outputs": [
    {
     "data": {
      "text/html": [
       "<Table><tr><td>Kmeans</td><td>Hierarchical</td></tr><tr><td><font size = 3>min_walk_score</tr><tr><td><img src= '../unsupervised/plots/hierarchical/hierachical_ward_min_walk_score.png' </td><td><img src= '../unsupervised/plots/kmeans/Kmeans_comparison_by_min_walk_score.png'</td></tr><tr><td><font size = 3>max_walk_score</tr><tr><td><img src= '../unsupervised/plots/hierarchical/hierachical_ward_max_walk_score.png' </td><td><img src= '../unsupervised/plots/kmeans/Kmeans_comparison_by_max_walk_score.png'</td></tr><tr><td><font size = 3>mean_walk_score</tr><tr><td><img src= '../unsupervised/plots/hierarchical/hierachical_ward_mean_walk_score.png' </td><td><img src= '../unsupervised/plots/kmeans/Kmeans_comparison_by_mean_walk_score.png'</td></tr><tr><td><font size = 3>med_sale_pbo_n</tr><tr><td><img src= '../unsupervised/plots/hierarchical/hierachical_ward_med_sale_pbo_n.png' </td><td><img src= '../unsupervised/plots/kmeans/Kmeans_comparison_by_med_sale_pbo_n.png'</td></tr><tr><td><font size = 3>log_sum_cost_pedestrian_events</tr><tr><td><img src= '../unsupervised/plots/hierarchical/hierachical_ward_log_sum_cost_pedestrian_events.png' </td><td><img src= '../unsupervised/plots/kmeans/Kmeans_comparison_by_log_sum_cost_pedestrian_events.png'</td></tr><tr><td><font size = 3>log_num_near_misses</tr><tr><td><img src= '../unsupervised/plots/hierarchical/hierachical_ward_log_num_near_misses.png' </td><td><img src= '../unsupervised/plots/kmeans/Kmeans_comparison_by_log_num_near_misses.png'</td></tr><tr><td><font size = 3>log_n_rqst</tr><tr><td><img src= '../unsupervised/plots/hierarchical/hierachical_ward_log_n_rqst.png' </td><td><img src= '../unsupervised/plots/kmeans/Kmeans_comparison_by_log_n_rqst.png'</td></tr><tr><td><font size = 3>log_access</tr><tr><td><img src= '../unsupervised/plots/hierarchical/hierachical_ward_log_access.png' </td><td><img src= '../unsupervised/plots/kmeans/Kmeans_comparison_by_log_access.png'</td></tr><tr><td><font size = 3>log_dblprk</tr><tr><td><img src= '../unsupervised/plots/hierarchical/hierachical_ward_log_dblprk.png' </td><td><img src= '../unsupervised/plots/kmeans/Kmeans_comparison_by_log_dblprk.png'</td></tr><tr><td><font size = 3>log_dnotyld</tr><tr><td><img src= '../unsupervised/plots/hierarchical/hierachical_ward_log_dnotyld.png' </td><td><img src= '../unsupervised/plots/kmeans/Kmeans_comparison_by_log_dnotyld.png'</td></tr><tr><td><font size = 3>log_jywalk</tr><tr><td><img src= '../unsupervised/plots/hierarchical/hierachical_ward_log_jywalk.png' </td><td><img src= '../unsupervised/plots/kmeans/Kmeans_comparison_by_log_jywalk.png'</td></tr><tr><td><font size = 3>log_lvisib</tr><tr><td><img src= '../unsupervised/plots/hierarchical/hierachical_ward_log_lvisib.png' </td><td><img src= '../unsupervised/plots/kmeans/Kmeans_comparison_by_log_lvisib.png'</td></tr><tr><td><font size = 3>log_lwfws</tr><tr><td><img src= '../unsupervised/plots/hierarchical/hierachical_ward_log_lwfws.png' </td><td><img src= '../unsupervised/plots/kmeans/Kmeans_comparison_by_log_lwfws.png'</td></tr><tr><td><font size = 3>log_nobikef</tr><tr><td><img src= '../unsupervised/plots/hierarchical/hierachical_ward_log_nobikef.png' </td><td><img src= '../unsupervised/plots/kmeans/Kmeans_comparison_by_log_nobikef.png'</td></tr><tr><td><font size = 3>log_noswlk</tr><tr><td><img src= '../unsupervised/plots/hierarchical/hierachical_ward_log_noswlk.png' </td><td><img src= '../unsupervised/plots/kmeans/Kmeans_comparison_by_log_noswlk.png'</td></tr><tr><td><font size = 3>log_other</tr><tr><td><img src= '../unsupervised/plots/hierarchical/hierachical_ward_log_other.png' </td><td><img src= '../unsupervised/plots/kmeans/Kmeans_comparison_by_log_other.png'</td></tr><tr><td><font size = 3>log_prkint</tr><tr><td><img src= '../unsupervised/plots/hierarchical/hierachical_ward_log_prkint.png' </td><td><img src= '../unsupervised/plots/kmeans/Kmeans_comparison_by_log_prkint.png'</td></tr><tr><td><font size = 3>log_prkswlk</tr><tr><td><img src= '../unsupervised/plots/hierarchical/hierachical_ward_log_prkswlk.png' </td><td><img src= '../unsupervised/plots/kmeans/Kmeans_comparison_by_log_prkswlk.png'</td></tr><tr><td><font size = 3>log_speed</tr><tr><td><img src= '../unsupervised/plots/hierarchical/hierachical_ward_log_speed.png' </td><td><img src= '../unsupervised/plots/kmeans/Kmeans_comparison_by_log_speed.png'</td></tr><tr><td><font size = 3>log_vrrlss</tr><tr><td><img src= '../unsupervised/plots/hierarchical/hierachical_ward_log_vrrlss.png' </td><td><img src= '../unsupervised/plots/kmeans/Kmeans_comparison_by_log_vrrlss.png'</td></tr><tr><td><font size = 3>log_wlksig</tr><tr><td><img src= '../unsupervised/plots/hierarchical/hierachical_ward_log_wlksig.png' </td><td><img src= '../unsupervised/plots/kmeans/Kmeans_comparison_by_log_wlksig.png'</td></tr><tr><td><font size = 3>log_xwalk</tr><tr><td><img src= '../unsupervised/plots/hierarchical/hierachical_ward_log_xwalk.png' </td><td><img src= '../unsupervised/plots/kmeans/Kmeans_comparison_by_log_xwalk.png'</td></tr><tr><td><font size = 3>log_assist</tr><tr><td><img src= '../unsupervised/plots/hierarchical/hierachical_ward_log_assist.png' </td><td><img src= '../unsupervised/plots/kmeans/Kmeans_comparison_by_log_assist.png'</td></tr><tr><td><font size = 3>log_bikes</tr><tr><td><img src= '../unsupervised/plots/hierarchical/hierachical_ward_log_bikes.png' </td><td><img src= '../unsupervised/plots/kmeans/Kmeans_comparison_by_log_bikes.png'</td></tr><tr><td><font size = 3>log_drives</tr><tr><td><img src= '../unsupervised/plots/hierarchical/hierachical_ward_log_drives.png' </td><td><img src= '../unsupervised/plots/kmeans/Kmeans_comparison_by_log_drives.png'</td></tr><tr><td><font size = 3>log_other.1</tr><tr><td><img src= '../unsupervised/plots/hierarchical/hierachical_ward_log_other.1.png' </td><td><img src= '../unsupervised/plots/kmeans/Kmeans_comparison_by_log_other.1.png'</td></tr><tr><td><font size = 3>log_walks</tr><tr><td><img src= '../unsupervised/plots/hierarchical/hierachical_ward_log_walks.png' </td><td><img src= '../unsupervised/plots/kmeans/Kmeans_comparison_by_log_walks.png'</td></tr><tr><td><font size = 3>log_num_walk_scores</tr><tr><td><img src= '../unsupervised/plots/hierarchical/hierachical_ward_log_num_walk_scores.png' </td><td><img src= '../unsupervised/plots/kmeans/Kmeans_comparison_by_log_num_walk_scores.png'</td></tr><tr><td><font size = 3>log_sum_lane_cnt</tr><tr><td><img src= '../unsupervised/plots/hierarchical/hierachical_ward_log_sum_lane_cnt.png' </td><td><img src= '../unsupervised/plots/kmeans/Kmeans_comparison_by_log_sum_lane_cnt.png'</td></tr><tr><td><font size = 3>log_sum_width</tr><tr><td><img src= '../unsupervised/plots/hierarchical/hierachical_ward_log_sum_width.png' </td><td><img src= '../unsupervised/plots/kmeans/Kmeans_comparison_by_log_sum_width.png'</td></tr><tr><td><font size = 3>log_sum_area</tr><tr><td><img src= '../unsupervised/plots/hierarchical/hierachical_ward_log_sum_area.png' </td><td><img src= '../unsupervised/plots/kmeans/Kmeans_comparison_by_log_sum_area.png'</td></tr><tr><td><font size = 3>log_num_streets</tr><tr><td><img src= '../unsupervised/plots/hierarchical/hierachical_ward_log_num_streets.png' </td><td><img src= '../unsupervised/plots/kmeans/Kmeans_comparison_by_log_num_streets.png'</td></tr><tr><td><font size = 3>log_num_fire_incd</tr><tr><td><img src= '../unsupervised/plots/hierarchical/hierachical_ward_log_num_fire_incd.png' </td><td><img src= '../unsupervised/plots/kmeans/Kmeans_comparison_by_log_num_fire_incd.png'</td></tr><tr><td><font size = 3>log_med_sale_res_y</tr><tr><td><img src= '../unsupervised/plots/hierarchical/hierachical_ward_log_med_sale_res_y.png' </td><td><img src= '../unsupervised/plots/kmeans/Kmeans_comparison_by_log_med_sale_res_y.png'</td></tr><tr><td><font size = 3>log_med_sale_res_n</tr><tr><td><img src= '../unsupervised/plots/hierarchical/hierachical_ward_log_med_sale_res_n.png' </td><td><img src= '../unsupervised/plots/kmeans/Kmeans_comparison_by_log_med_sale_res_n.png'</td></tr><tr><td><font size = 3>log_med_sale_com_y</tr><tr><td><img src= '../unsupervised/plots/hierarchical/hierachical_ward_log_med_sale_com_y.png' </td><td><img src= '../unsupervised/plots/kmeans/Kmeans_comparison_by_log_med_sale_com_y.png'</td></tr><tr><td><font size = 3>log_med_sale_com_n</tr><tr><td><img src= '../unsupervised/plots/hierarchical/hierachical_ward_log_med_sale_com_n.png' </td><td><img src= '../unsupervised/plots/kmeans/Kmeans_comparison_by_log_med_sale_com_n.png'</td></tr><tr><td><font size = 3>log_med_sale_ind_y</tr><tr><td><img src= '../unsupervised/plots/hierarchical/hierachical_ward_log_med_sale_ind_y.png' </td><td><img src= '../unsupervised/plots/kmeans/Kmeans_comparison_by_log_med_sale_ind_y.png'</td></tr><tr><td><font size = 3>log_med_sale_ind_n</tr><tr><td><img src= '../unsupervised/plots/hierarchical/hierachical_ward_log_med_sale_ind_n.png' </td><td><img src= '../unsupervised/plots/kmeans/Kmeans_comparison_by_log_med_sale_ind_n.png'</td></tr><tr><td><font size = 3>log_med_sale_pbo_y</tr><tr><td><img src= '../unsupervised/plots/hierarchical/hierachical_ward_log_med_sale_pbo_y.png' </td><td><img src= '../unsupervised/plots/kmeans/Kmeans_comparison_by_log_med_sale_pbo_y.png'</td></tr><tr><td><font size = 3>log_sum_cost.y</tr><tr><td><img src= '../unsupervised/plots/hierarchical/hierachical_ward_log_sum_cost.y.png' </td><td><img src= '../unsupervised/plots/kmeans/Kmeans_comparison_by_log_sum_cost.y.png'</td></tr><tr><td><font size = 3>log_num_events.y</tr><tr><td><img src= '../unsupervised/plots/hierarchical/hierachical_ward_log_num_events.y.png' </td><td><img src= '../unsupervised/plots/kmeans/Kmeans_comparison_by_log_num_events.y.png'</td></tr><tr><td><font size = 3>log_dist</tr><tr><td><img src= '../unsupervised/plots/hierarchical/hierachical_ward_log_dist.png' </td><td><img src= '../unsupervised/plots/kmeans/Kmeans_comparison_by_log_dist.png'</td></tr><tr><td><font size = 3>log_n_object</tr><tr><td><img src= '../unsupervised/plots/hierarchical/hierachical_ward_log_n_object.png' </td><td><img src= '../unsupervised/plots/kmeans/Kmeans_comparison_by_log_n_object.png'</td></tr><tr><td><font size = 3>log_animals_insects</tr><tr><td><img src= '../unsupervised/plots/hierarchical/hierachical_ward_log_animals_insects.png' </td><td><img src= '../unsupervised/plots/kmeans/Kmeans_comparison_by_log_animals_insects.png'</td></tr><tr><td><font size = 3>log_building.related</tr><tr><td><img src= '../unsupervised/plots/hierarchical/hierachical_ward_log_building.related.png' </td><td><img src= '../unsupervised/plots/kmeans/Kmeans_comparison_by_log_building.related.png'</td></tr><tr><td><font size = 3>log_construction</tr><tr><td><img src= '../unsupervised/plots/hierarchical/hierachical_ward_log_construction.png' </td><td><img src= '../unsupervised/plots/kmeans/Kmeans_comparison_by_log_construction.png'</td></tr><tr><td><font size = 3>log_food</tr><tr><td><img src= '../unsupervised/plots/hierarchical/hierachical_ward_log_food.png' </td><td><img src= '../unsupervised/plots/kmeans/Kmeans_comparison_by_log_food.png'</td></tr><tr><td><font size = 3>log_others</tr><tr><td><img src= '../unsupervised/plots/hierarchical/hierachical_ward_log_others.png' </td><td><img src= '../unsupervised/plots/kmeans/Kmeans_comparison_by_log_others.png'</td></tr><tr><td><font size = 3>log_police.property</tr><tr><td><img src= '../unsupervised/plots/hierarchical/hierachical_ward_log_police.property.png' </td><td><img src= '../unsupervised/plots/kmeans/Kmeans_comparison_by_log_police.property.png'</td></tr><tr><td><font size = 3>log_service.complaint</tr><tr><td><img src= '../unsupervised/plots/hierarchical/hierachical_ward_log_service.complaint.png' </td><td><img src= '../unsupervised/plots/kmeans/Kmeans_comparison_by_log_service.complaint.png'</td></tr><tr><td><font size = 3>log_street_sidewalk</tr><tr><td><img src= '../unsupervised/plots/hierarchical/hierachical_ward_log_street_sidewalk.png' </td><td><img src= '../unsupervised/plots/kmeans/Kmeans_comparison_by_log_street_sidewalk.png'</td></tr><tr><td><font size = 3>log_traffic_sig0l</tr><tr><td><img src= '../unsupervised/plots/hierarchical/hierachical_ward_log_traffic_sig0l.png' </td><td><img src= '../unsupervised/plots/kmeans/Kmeans_comparison_by_log_traffic_sig0l.png'</td></tr><tr><td><font size = 3>log_trash</tr><tr><td><img src= '../unsupervised/plots/hierarchical/hierachical_ward_log_trash.png' </td><td><img src= '../unsupervised/plots/kmeans/Kmeans_comparison_by_log_trash.png'</td></tr><tr><td><font size = 3>log_trees_plants</tr><tr><td><img src= '../unsupervised/plots/hierarchical/hierachical_ward_log_trees_plants.png' </td><td><img src= '../unsupervised/plots/kmeans/Kmeans_comparison_by_log_trees_plants.png'</td></tr><tr><td><font size = 3>log_water.leak</tr><tr><td><img src= '../unsupervised/plots/hierarchical/hierachical_ward_log_water.leak.png' </td><td><img src= '../unsupervised/plots/kmeans/Kmeans_comparison_by_log_water.leak.png'</td></tr><tr><td><font size = 3>log_zoning_parking</tr><tr><td><img src= '../unsupervised/plots/hierarchical/hierachical_ward_log_zoning_parking.png' </td><td><img src= '../unsupervised/plots/kmeans/Kmeans_comparison_by_log_zoning_parking.png'</td></tr><tr><td><font size = 3>log_n_request</tr><tr><td><img src= '../unsupervised/plots/hierarchical/hierachical_ward_log_n_request.png' </td><td><img src= '../unsupervised/plots/kmeans/Kmeans_comparison_by_log_n_request.png'</td></tr></table>"
      ],
      "text/plain": [
       "<IPython.core.display.HTML object>"
      ]
     },
     "execution_count": 3,
     "metadata": {},
     "output_type": "execute_result"
    }
   ],
   "source": [
    "html_content = \"<Table><tr><td>Kmeans</td><td>Hierarchical</td></tr>\"\n",
    "for col in col_names:\n",
    "\n",
    "    plot_name = str(col)\n",
    "    data_file_ext = \".png\"\n",
    "\n",
    "    kmeans_image_loc = \"../unsupervised/plots/kmeans/\"\n",
    "    HC_image_loc = \"../unsupervised/plots/hierarchical/\"\n",
    "    kmeans_plot_type = \"Kmeans_comparison_by_\"\n",
    "    HC_plot_type = \"hierachical_ward_\"\n",
    "    \n",
    "    \n",
    "    l_plt_file_2_save = kmeans_image_loc + kmeans_plot_type + plot_name + data_file_ext\n",
    "    F_plt_file_2_save = HC_image_loc + HC_plot_type + plot_name + data_file_ext\n",
    "   \n",
    "    #print(l_plt_file_2_save)\n",
    "    #Image(plt_file_2_save) \n",
    "    #Image(plt_file_2_save)\n",
    "    \n",
    "    #html_content = html_content + \"<tr><td><img src=\"+ l_plt_file_2_save+\"</td></tr>\"\n",
    "    html_content = html_content +  \"<tr><td><font size = 3>\"+ col+\"</tr><tr><td><img src= '\"+F_plt_file_2_save+\"' </td><td><img src= '\"+l_plt_file_2_save+\"'</td></tr>\"\n",
    "    #print(html_content)\n",
    "\n",
    "html_content = html_content + \"</table>\"\n",
    "HTML(html_content)"
   ]
  },
  {
   "cell_type": "code",
   "execution_count": null,
   "metadata": {},
   "outputs": [],
   "source": [
    "c_0_col_names = ['min_walk_score',\n",
    " 'max_walk_score',\n",
    " 'mean_walk_score',\n",
    " 'med_sale_pbo_n',\n",
    " 'log_sum_cost_pedestrian_events',\n",
    " 'log_num_near_misses',\n",
    " 'log_n_rqst',\n",
    " 'log_access',\n",
    " 'log_dblprk',\n",
    " 'log_dnotyld',\n",
    " 'log_jywalk',\n",
    " 'log_lvisib',\n",
    " 'log_lwfws',\n",
    " 'log_nobikef',\n",
    " 'log_noswlk',\n",
    " 'log_other',\n",
    " 'log_prkint',\n",
    " 'log_prkswlk',\n",
    " 'log_speed',\n",
    " 'log_vrrlss',\n",
    " 'log_wlksig',\n",
    " 'log_xwalk',\n",
    " 'log_assist',\n",
    " 'log_bikes',\n",
    " 'log_drives',\n",
    " 'log_other.1',\n",
    " 'log_walks',\n",
    " 'log_num_walk_scores',\n",
    " 'log_sum_lane_cnt',\n",
    " 'log_sum_width',\n",
    " 'log_sum_area',\n",
    " 'log_num_streets',\n",
    " 'log_num_fire_incd',\n",
    " 'log_med_sale_res_y',\n",
    " 'log_med_sale_res_n',\n",
    " 'log_med_sale_com_y',\n",
    " 'log_med_sale_com_n',\n",
    " 'log_med_sale_ind_y',\n",
    " 'log_med_sale_ind_n',\n",
    " 'log_med_sale_pbo_y',\n",
    " 'log_sum_cost.y',\n",
    " 'log_num_events.y',\n",
    " 'log_dist',\n",
    " 'log_n_object',\n",
    " 'log_animals_insects',\n",
    " 'log_building.related',\n",
    " 'log_construction',\n",
    " 'log_food',\n",
    " 'log_others',\n",
    " 'log_police.property',\n",
    " 'log_service.complaint',\n",
    " 'log_street_sidewalk',\n",
    " 'log_traffic_sig0l',\n",
    " 'log_trash',\n",
    " 'log_trees_plants',\n",
    " 'log_water.leak',\n",
    " 'log_zoning_parking',\n",
    " 'log_n_request']"
   ]
  },
  {
   "cell_type": "code",
   "execution_count": 19,
   "metadata": {
    "scrolled": false
   },
   "outputs": [
    {
     "data": {
      "text/html": [
       "</tr><tr><td><img src= '../plots/clustering/cinci.PNG'width=700 height=700></td><td><img src= '../plots/clustering/unsupervised_kmeans_labels_mapped_2_grid.png' </td></tr>"
      ],
      "text/plain": [
       "<IPython.core.display.HTML object>"
      ]
     },
     "execution_count": 19,
     "metadata": {},
     "output_type": "execute_result"
    }
   ],
   "source": [
    "map_img = '../plots/clustering/cinci.PNG'\n",
    "cluster = '../plots/clustering/unsupervised_kmeans_labels_mapped_2_grid.png'\n",
    "cluster0 = '../plots/clustering/Cluster 00  - Feature participation in Cluster character.png'\n",
    "cluster1 = '../plots/clustering/Cluster 01  - Feature participation in Cluster character.png'\n",
    "cluster2 = '../plots/clustering/Cluster 02  - Feature participation in Cluster character.png'\n",
    "HTML(\"</tr><tr><td><img src= '\"+map_img+\"'width=700 height=700></td><td><img src= '\"+cluster+\"' </td></tr>\")\n"
   ]
  },
  {
   "attachments": {},
   "cell_type": "markdown",
   "metadata": {},
   "source": [
    "cluster 0 : Blue - Parts of Winton hills , Winston place\n",
    "Cluster 1: Green - Oakley, Madison ville, Walnut hills, East Walnut hill Avondale\n",
    "Cluster 2: Red - dominant parts of East end and California, Parts of Mt.Airy,Columnbia Tuscalumn, Linwood, Mt.Lookout\n",
    "\n",
    "\n",
    "Property Transfers\n",
    "In our dataset, we have split the property transfers of residentail, commerical, industrial, and public owned. We can note that\n",
    "cluster 1  dominates the commercial property transfers, While residentail is spread across all clusters\n",
    "\n",
    "Pedestrian Survey\n",
    "attributes like donotyield,lack of visibility, user type walk are mainly in cluster 1\n",
    "No Sidewalks is a big influencer of Cluster 0\n",
    "all other issues are across all clusters\n",
    "\n",
    "Walkscore:\n",
    "Cluster 1 is predominantly high on walkscore\n",
    "\n",
    "street:\n",
    "\n",
    "\n",
    "non emergency issues:\n",
    "public service related issues like Trees, Thrash, building related police property are high in cluster 0\n",
    "while parking, building related, insects are more on cluster 1\n",
    "\n",
    "\n",
    "\n"
   ]
  },
  {
   "cell_type": "code",
   "execution_count": 22,
   "metadata": {},
   "outputs": [
    {
     "data": {
      "text/html": [
       "<table><tr><td><img src= '../plots/clustering/Cluster 00  - Feature participation in Cluster character.png'></td></tr><tr><td><img src= '../plots/clustering/Cluster 01  - Feature participation in Cluster character.png'></td></tr><tr><td><img src= '../plots/clustering/Cluster 02  - Feature participation in Cluster character.png'></td></tr></table>"
      ],
      "text/plain": [
       "<IPython.core.display.HTML object>"
      ]
     },
     "execution_count": 22,
     "metadata": {},
     "output_type": "execute_result"
    }
   ],
   "source": [
    "HTML(\"<table><tr><td><img src= '\"+cluster0+\"'></td></tr><tr><td><img src= '\"+cluster1+\"'></td></tr><tr><td><img src= '\"+cluster2+\"'></td></tr></table>\")"
   ]
  },
  {
   "cell_type": "code",
   "execution_count": null,
   "metadata": {},
   "outputs": [],
   "source": []
  }
 ],
 "metadata": {
  "kernelspec": {
   "display_name": "Python 3",
   "language": "python",
   "name": "python3"
  },
  "language_info": {
   "codemirror_mode": {
    "name": "ipython",
    "version": 3
   },
   "file_extension": ".py",
   "mimetype": "text/x-python",
   "name": "python",
   "nbconvert_exporter": "python",
   "pygments_lexer": "ipython3",
   "version": "3.6.1"
  }
 },
 "nbformat": 4,
 "nbformat_minor": 2
}
